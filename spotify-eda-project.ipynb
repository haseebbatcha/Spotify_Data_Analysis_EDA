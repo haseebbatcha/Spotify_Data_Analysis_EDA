{
 "cells": [
  {
   "cell_type": "code",
   "execution_count": null,
   "metadata": {
    "execution": {
     "iopub.execute_input": "2023-05-19T18:48:59.594946Z",
     "iopub.status.busy": "2023-05-19T18:48:59.594489Z"
    }
   },
   "outputs": [],
   "source": [
    "#importing required library's\n",
    "import pandas as pd\n",
    "import numpy as np\n",
    "import matplotlib.pyplot as plt\n",
    "import seaborn as sns"
   ]
  },
  {
   "cell_type": "code",
   "execution_count": null,
   "metadata": {},
   "outputs": [],
   "source": [
    "df_tracks=pd.read_csv(\"/kaggle/input/tracks/tracks.csv\")\n",
    "df_tracks.head()"
   ]
  },
  {
   "cell_type": "code",
   "execution_count": null,
   "metadata": {},
   "outputs": [],
   "source": [
    "#To check how many nulls in in the datset in which column's\n",
    "pd.isnull(df_tracks).sum()"
   ]
  },
  {
   "cell_type": "code",
   "execution_count": null,
   "metadata": {},
   "outputs": [],
   "source": [
    "#To check Data Type of each coloumn\n",
    "df_tracks.info()"
   ]
  },
  {
   "cell_type": "code",
   "execution_count": null,
   "metadata": {},
   "outputs": [],
   "source": [
    "#To check most unpopular tracks in the datset\n",
    "sorted_df=df_tracks.sort_values('popularity',ascending=True).head(10)\n",
    "sorted_df"
   ]
  },
  {
   "cell_type": "code",
   "execution_count": null,
   "metadata": {},
   "outputs": [],
   "source": [
    "#To get statistial summary\n",
    "df_tracks.describe().transpose()"
   ]
  },
  {
   "cell_type": "code",
   "execution_count": null,
   "metadata": {},
   "outputs": [],
   "source": [
    "# sorting values according high popularity\n",
    "most_popular=df_tracks.query('popularity>90',inplace=False).sort_values('popularity',ascending=False)\n",
    "most_popular[:10]"
   ]
  },
  {
   "cell_type": "markdown",
   "metadata": {},
   "source": [
    "**By this we found top10 tracks which are most popular**"
   ]
  },
  {
   "cell_type": "code",
   "execution_count": null,
   "metadata": {},
   "outputs": [],
   "source": [
    "#To check from which date spotify have tracks\n",
    "df_tracks.set_index(\"release_date\",inplace=True)\n",
    "df_tracks.index=pd.to_datetime(df_tracks.index)\n",
    "df_tracks.tail(19)"
   ]
  },
  {
   "cell_type": "code",
   "execution_count": null,
   "metadata": {},
   "outputs": [],
   "source": [
    "df_tracks[[\"artists\"]].iloc[18]"
   ]
  },
  {
   "cell_type": "code",
   "execution_count": null,
   "metadata": {},
   "outputs": [],
   "source": [
    "df_tracks[\"duration\"]=df_tracks[\"duration_ms\"].apply(lambda x: round(x/1000))\n",
    "df_tracks.drop(\"duration_ms\",inplace=True, axis=1)"
   ]
  },
  {
   "cell_type": "code",
   "execution_count": null,
   "metadata": {},
   "outputs": [],
   "source": [
    "df_tracks.duration.head()"
   ]
  },
  {
   "cell_type": "code",
   "execution_count": null,
   "metadata": {},
   "outputs": [],
   "source": [
    "sample_df=df_tracks.sample(int(0.004*len(df_tracks)))"
   ]
  },
  {
   "cell_type": "code",
   "execution_count": null,
   "metadata": {},
   "outputs": [],
   "source": [
    "print(len(sample_df))"
   ]
  },
  {
   "cell_type": "code",
   "execution_count": null,
   "metadata": {},
   "outputs": [],
   "source": [
    "plt.figure(figsize=(10,6))\n",
    "sns.regplot(data=sample_df,y=\"loudness\",x=\"energy\",color=\"c\").set(title=\"Loudness vs Energy\")"
   ]
  },
  {
   "cell_type": "code",
   "execution_count": null,
   "metadata": {},
   "outputs": [],
   "source": [
    "plt.figure(figsize=(10,6))\n",
    "sns.regplot(data=sample_df,y=\"popularity\",x=\"acousticness\",color=\"m\").set(title=\"Popularity vs Acousticness\")"
   ]
  },
  {
   "cell_type": "code",
   "execution_count": null,
   "metadata": {},
   "outputs": [],
   "source": [
    "df_tracks[\"dates\"]=df_tracks.index.get_level_values(\"release_date\")\n",
    "df_tracks.dates=pd.to_datetime(df_tracks.dates)\n",
    "years=df_tracks.dates.dt.year"
   ]
  },
  {
   "cell_type": "code",
   "execution_count": null,
   "metadata": {},
   "outputs": [],
   "source": [
    "sns.displot(years,discrete=True,aspect=2,height=5,kind=\"hist\").set(title=\"Number of Songs per Year\")"
   ]
  },
  {
   "cell_type": "code",
   "execution_count": null,
   "metadata": {},
   "outputs": [],
   "source": [
    "total_dr=df_tracks.duration\n",
    "fig_dims=(18,7)\n",
    "dig, ax=plt.subplots(figsize=fig_dims)\n",
    "fig=sns.barplot(x=years,y=total_dr,ax=ax,errwidth=False).set(title=\"Year vs Distributuion\")\n",
    "plt.xticks(rotation=90)"
   ]
  },
  {
   "cell_type": "code",
   "execution_count": null,
   "metadata": {},
   "outputs": [],
   "source": [
    "total_dr=df_tracks.duration\n",
    "sns.set_style(style=\"whitegrid\")\n",
    "fig_dims=(10,5)\n",
    "fig,ax=plt.subplots(figsize=fig_dims)\n",
    "fig=sns.lineplot(x=years,y=total_dr,ax=ax).set(title=\"Year vs Duration\")\n",
    "plt.xticks(rotation=60)"
   ]
  },
  {
   "cell_type": "code",
   "execution_count": null,
   "metadata": {},
   "outputs": [],
   "source": [
    "df_genere=pd.read_csv(\"/kaggle/input/spotifyfeatures/SpotifyFeatures.csv\")"
   ]
  },
  {
   "cell_type": "code",
   "execution_count": null,
   "metadata": {},
   "outputs": [],
   "source": [
    "df_genere.head()"
   ]
  },
  {
   "cell_type": "code",
   "execution_count": null,
   "metadata": {},
   "outputs": [],
   "source": [
    "plt.title(\"Duration of The SOngs in Defferent Generes\")\n",
    "sns.color_palette(\"rocket\",as_cmap=True)\n",
    "sns.barplot(y=\"genre\",x=\"duration_ms\",data=df_genere)\n",
    "plt.xlabel(\"Duration in Milli Seconds\")\n",
    "plt.ylabel(\"genere\")"
   ]
  },
  {
   "cell_type": "code",
   "execution_count": null,
   "metadata": {},
   "outputs": [],
   "source": [
    "sns.set_style(style=\"darkgrid\")\n",
    "plt.figure(figsize=(10,5))\n",
    "famous=df_genere.sort_values(\"popularity\",ascending=False).head(10)\n",
    "sns.barplot(y=\"genre\",x=\"popularity\",data=famous).set(title=\"Top 5 Generes by Popularity\")"
   ]
  }
 ],
 "metadata": {
  "kernelspec": {
   "display_name": "Python 3 (ipykernel)",
   "language": "python",
   "name": "python3"
  },
  "language_info": {
   "codemirror_mode": {
    "name": "ipython",
    "version": 3
   },
   "file_extension": ".py",
   "mimetype": "text/x-python",
   "name": "python",
   "nbconvert_exporter": "python",
   "pygments_lexer": "ipython3",
   "version": "3.11.3"
  }
 },
 "nbformat": 4,
 "nbformat_minor": 4
}
